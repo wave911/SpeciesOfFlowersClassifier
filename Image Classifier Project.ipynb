{
 "cells": [
  {
   "cell_type": "markdown",
   "metadata": {},
   "source": [
    "# Developing an AI application\n",
    "\n",
    "Going forward, AI algorithms will be incorporated into more and more everyday applications. For example, you might want to include an image classifier in a smart phone app. To do this, you'd use a deep learning model trained on hundreds of thousands of images as part of the overall application architecture. A large part of software development in the future will be using these types of models as common parts of applications. \n",
    "\n",
    "In this project, you'll train an image classifier to recognize different species of flowers. You can imagine using something like this in a phone app that tells you the name of the flower your camera is looking at. In practice you'd train this classifier, then export it for use in your application. We'll be using [this dataset](http://www.robots.ox.ac.uk/~vgg/data/flowers/102/index.html) of 102 flower categories, you can see a few examples below. \n",
    "\n",
    "<img src='assets/Flowers.png' width=500px>\n",
    "\n",
    "The project is broken down into multiple steps:\n",
    "\n",
    "* Load and preprocess the image dataset\n",
    "* Train the image classifier on your dataset\n",
    "* Use the trained classifier to predict image content\n",
    "\n",
    "We'll lead you through each part which you'll implement in Python.\n",
    "\n",
    "When you've completed this project, you'll have an application that can be trained on any set of labeled images. Here your network will be learning about flowers and end up as a command line application. But, what you do with your new skills depends on your imagination and effort in building a dataset. For example, imagine an app where you take a picture of a car, it tells you what the make and model is, then looks up information about it. Go build your own dataset and make something new.\n",
    "\n",
    "First up is importing the packages you'll need. It's good practice to keep all the imports at the beginning of your code. As you work through this notebook and find you need to import a package, make sure to add the import up here."
   ]
  },
  {
   "cell_type": "code",
   "execution_count": 1,
   "metadata": {},
   "outputs": [],
   "source": [
    "# Imports here\n",
    "%matplotlib inline\n",
    "\n",
    "import matplotlib.pyplot as plt\n",
    "\n",
    "import torch\n",
    "from torch import nn\n",
    "from torch import optim\n",
    "import torch.nn.functional as F\n",
    "from torch.optim import lr_scheduler\n",
    "from torchvision import datasets, transforms, models\n",
    "import copy\n",
    "import seaborn as sns\n",
    "#import helper\n",
    "\n",
    "import numpy as np\n",
    "import time\n",
    "from tqdm import tqdm\n",
    "from urllib.request import urlretrieve\n",
    "from os.path import isfile, isdir\n",
    "import tarfile"
   ]
  },
  {
   "cell_type": "markdown",
   "metadata": {},
   "source": [
    "## Load the data\n",
    "\n",
    "Here you'll use `torchvision` to load the data ([documentation](http://pytorch.org/docs/0.3.0/torchvision/index.html)). The data should be included alongside this notebook, otherwise you can [download it here](https://s3.amazonaws.com/content.udacity-data.com/nd089/flower_data.tar.gz). The dataset is split into three parts, training, validation, and testing. For the training, you'll want to apply transformations such as random scaling, cropping, and flipping. This will help the network generalize leading to better performance. You'll also need to make sure the input data is resized to 224x224 pixels as required by the pre-trained networks.\n",
    "\n",
    "The validation and testing sets are used to measure the model's performance on data it hasn't seen yet. For this you don't want any scaling or rotation transformations, but you'll need to resize then crop the images to the appropriate size.\n",
    "\n",
    "The pre-trained networks you'll use were trained on the ImageNet dataset where each color channel was normalized separately. For all three sets you'll need to normalize the means and standard deviations of the images to what the network expects. For the means, it's `[0.485, 0.456, 0.406]` and for the standard deviations `[0.229, 0.224, 0.225]`, calculated from the ImageNet images.  These values will shift each color channel to be centered at 0 and range from -1 to 1.\n",
    " "
   ]
  },
  {
   "cell_type": "code",
   "execution_count": null,
   "metadata": {},
   "outputs": [],
   "source": [
    "dataset_folder_path = 'assets/flower_photos'\n",
    "\n",
    "class DLProgress(tqdm):\n",
    "    last_block = 0\n",
    "\n",
    "    def hook(self, block_num=1, block_size=1, total_size=None):\n",
    "        self.total = total_size\n",
    "        self.update((block_num - self.last_block) * block_size)\n",
    "        self.last_block = block_num\n",
    "\n",
    "if not isfile('assets/flower_photos.tar.gz'):\n",
    "    with DLProgress(unit='B', unit_scale=True, miniters=1, desc='Flowers Dataset') as pbar:\n",
    "        urlretrieve(\n",
    "            'https://s3.amazonaws.com/content.udacity-data.com/nd089/flower_data.tar.gz',\n",
    "            'assets/flower_data.tar.gz',\n",
    "            pbar.hook)"
   ]
  },
  {
   "cell_type": "code",
   "execution_count": null,
   "metadata": {},
   "outputs": [],
   "source": [
    "if not isdir(dataset_folder_path):\n",
    "    with tarfile.open('assets/flower_data.tar.gz') as tar:\n",
    "        tar.extractall(path='assets/flower_data')\n",
    "        tar.close()"
   ]
  },
  {
   "cell_type": "code",
   "execution_count": 2,
   "metadata": {},
   "outputs": [],
   "source": [
    "data_dir = 'assets/flower_data'\n",
    "train_dir = data_dir + '/train'\n",
    "valid_dir = data_dir + '/valid'\n",
    "test_dir = data_dir + '/test'"
   ]
  },
  {
   "cell_type": "code",
   "execution_count": 3,
   "metadata": {},
   "outputs": [],
   "source": [
    "# TODO: Define your transforms for the training, validation, and testing sets\n",
    "\n",
    "normalize = transforms.Normalize(mean=[0.485, 0.456, 0.406], \n",
    "                                  std=[0.229, 0.224, 0.225])\n",
    "\n",
    "b_size = 128\n",
    "train_transforms = transforms.Compose([transforms.RandomRotation(45),\n",
    "                                       #transforms.Resize(255),\n",
    "                                       transforms.RandomResizedCrop(224),\n",
    "                                       transforms.RandomHorizontalFlip(),\n",
    "                                       transforms.ColorJitter(\n",
    "                                                                brightness=0.4,\n",
    "                                                                contrast=0.4,\n",
    "                                                                saturation=0.4,\n",
    "                                                             ),\n",
    "                                       transforms.ToTensor(),\n",
    "                                       normalize\n",
    "                                      ])\n",
    "\n",
    "valid_transform = transforms.Compose([transforms.Resize(255),\n",
    "                                      transforms.CenterCrop(224),\n",
    "                                      transforms.ToTensor(), \n",
    "                                      normalize])\n",
    "\n",
    "test_transforms = transforms.Compose([transforms.Resize(255),\n",
    "                                      transforms.CenterCrop(224),\n",
    "                                      transforms.ToTensor(),\n",
    "                                      normalize])\n",
    "\n",
    "data_transforms = {\n",
    "    'train': train_transforms,\n",
    "    'valid': valid_transform\n",
    "}\n",
    "\n",
    "# TODO: Load the datasets with ImageFolder\n",
    "train_dataset = datasets.ImageFolder(train_dir, transform=train_transforms)\n",
    "valid_dataset = datasets.ImageFolder(valid_dir, transform=valid_transform)\n",
    "test_dataset = datasets.ImageFolder(test_dir, transform=test_transforms)\n",
    "\n",
    "image_datasets = {\n",
    "    'train': train_dataset,\n",
    "    'valid': valid_dataset\n",
    "}\n",
    "\n",
    "# TODO: Using the image datasets and the trainforms, define the dataloaders\n",
    "trainloader = torch.utils.data.DataLoader(train_dataset, batch_size=b_size)\n",
    "validloader = torch.utils.data.DataLoader(valid_dataset, batch_size=b_size)\n",
    "testloader = torch.utils.data.DataLoader(test_dataset, batch_size=b_size)\n",
    "\n",
    "dataloaders_dict = {\n",
    "    'train': trainloader,\n",
    "    'valid': validloader\n",
    "}"
   ]
  },
  {
   "cell_type": "markdown",
   "metadata": {},
   "source": [
    "### Label mapping\n",
    "\n",
    "You'll also need to load in a mapping from category label to category name. You can find this in the file `cat_to_name.json`. It's a JSON object which you can read in with the [`json` module](https://docs.python.org/2/library/json.html). This will give you a dictionary mapping the integer encoded categories to the actual names of the flowers."
   ]
  },
  {
   "cell_type": "code",
   "execution_count": 4,
   "metadata": {},
   "outputs": [],
   "source": [
    "import json\n",
    "\n",
    "with open('cat_to_name.json', 'r') as f:\n",
    "    cat_to_name = json.load(f)"
   ]
  },
  {
   "cell_type": "markdown",
   "metadata": {},
   "source": [
    "# Building and training the classifier\n",
    "\n",
    "Now that the data is ready, it's time to build and train the classifier. As usual, you should use one of the pretrained models from `torchvision.models` to get the image features. Build and train a new feed-forward classifier using those features.\n",
    "\n",
    "We're going to leave this part up to you. Refer to [the rubric](https://review.udacity.com/#!/rubrics/1663/view) for guidance on successfully completing this section. Things you'll need to do:\n",
    "\n",
    "* Load a [pre-trained network](http://pytorch.org/docs/master/torchvision/models.html) (If you need a starting point, the VGG networks work great and are straightforward to use)\n",
    "* Define a new, untrained feed-forward network as a classifier, using ReLU activations and dropout\n",
    "* Train the classifier layers using backpropagation using the pre-trained network to get the features\n",
    "* Track the loss and accuracy on the validation set to determine the best hyperparameters\n",
    "\n",
    "We've left a cell open for you below, but use as many as you need. Our advice is to break the problem up into smaller parts you can run separately. Check that each part is doing what you expect, then move on to the next. You'll likely find that as you work through each part, you'll need to go back and modify your previous code. This is totally normal!\n",
    "\n",
    "When training make sure you're updating only the weights of the feed-forward network. You should be able to get the validation accuracy above 70% if you build everything right. Make sure to try different hyperparameters (learning rate, units in the classifier, epochs, etc) to find the best model. Save those hyperparameters to use as default values in the next part of the project.\n",
    "\n",
    "One last important tip if you're using the workspace to run your code: To avoid having your workspace disconnect during the long-running tasks in this notebook, please read in the earlier page in this lesson called Intro to\n",
    "GPU Workspaces about Keeping Your Session Active. You'll want to include code from the workspace_utils.py module.\n",
    "\n",
    "**Note for Workspace users:** If your network is over 1 GB when saved as a checkpoint, there might be issues with saving backups in your workspace. Typically this happens with wide dense layers after the convolutional layers. If your saved checkpoint is larger than 1 GB (you can open a terminal and check with `ls -lh`), you should reduce the size of your hidden layers and train again."
   ]
  },
  {
   "cell_type": "code",
   "execution_count": 5,
   "metadata": {},
   "outputs": [
    {
     "name": "stderr",
     "output_type": "stream",
     "text": [
      "Downloading: \"https://download.pytorch.org/models/vgg19-dcbb9e9d.pth\" to /root/.torch/models/vgg19-dcbb9e9d.pth\n",
      "100%|██████████| 574673361/574673361 [00:05<00:00, 100181870.94it/s]\n"
     ]
    }
   ],
   "source": [
    "# TODO: Build and train your network\n",
    "#model = models.densenet121(pretrained=True)\n",
    "model = models.vgg19(pretrained=True)\n",
    "#model"
   ]
  },
  {
   "cell_type": "code",
   "execution_count": 6,
   "metadata": {},
   "outputs": [],
   "source": [
    "def getClassifier():\n",
    "    classifier = nn.Sequential( nn.Linear(25088, 4096, bias=True),\n",
    "                                nn.ReLU(True),\n",
    "                                nn.Dropout(0.5),\n",
    "                                nn.Linear(4096, 4096, bias=True),\n",
    "                                nn.ReLU(True),\n",
    "                                nn.Dropout(0.5),\n",
    "                                nn.Linear(4096, 102, bias=True),\n",
    "                                nn.LogSoftmax(dim=1)) \n",
    "#     classifier = nn.Sequential(OrderedDict([\n",
    "#                               ('fc1', nn.Linear(25088, 4096)),\n",
    "#                               ('relu', nn.ReLU()),\n",
    "#                               ('fc2', nn.Linear(4096, 102)),\n",
    "#                               ('output', nn.LogSoftmax(dim=1))\n",
    "#                               ]))\n",
    "    return classifier"
   ]
  },
  {
   "cell_type": "code",
   "execution_count": 7,
   "metadata": {
    "scrolled": false
   },
   "outputs": [
    {
     "name": "stdout",
     "output_type": "stream",
     "text": [
      "cuda\n"
     ]
    }
   ],
   "source": [
    "device = torch.device(\"cuda\" if torch.cuda.is_available() else \"cpu\")\n",
    "print(device.type)\n",
    "# Freeze parameters so we don't backprop through them\n",
    "for param in model.parameters():\n",
    "    param.requires_grad = False\n",
    "    \n",
    "model.classifier = getClassifier()\n",
    "\n",
    "#criterion = nn.CrossEntropyLoss()\n",
    "criterion = nn.NLLLoss()\n",
    "\n",
    "# Only train the classifier parameters, feature parameters are frozen\n",
    "optimizer = optim.Adam(model.classifier.parameters(), lr=0.00001, betas=(0.95, 0.999), weight_decay=1e-5)\n",
    "\n",
    "scheduler = lr_scheduler.StepLR(optimizer, step_size=5, gamma=0.1)\n",
    "\n",
    "model.to(device)\n",
    "num_epochs = 50\n",
    "train_losses, test_losses = [], []"
   ]
  },
  {
   "cell_type": "code",
   "execution_count": 8,
   "metadata": {},
   "outputs": [],
   "source": [
    "def save_model_checkpoint(model_state_dict, class_to_idx, architecure, checkpoint_file_path, isSave2File = False):\n",
    "    checkpoint = {\n",
    "        'state_dict': model_state_dict, #model.state_dict(),\n",
    "        'class_to_idx': class_to_idx, #image_datasets['train'].class_to_idx,\n",
    "        'arch': architecure # e.g. 'vgg19'\n",
    "    }\n",
    "    if (isSave2File):\n",
    "        torch.save(checkpoint, checkpoint_file_path)\n",
    "    return checkpoint"
   ]
  },
  {
   "cell_type": "code",
   "execution_count": 9,
   "metadata": {},
   "outputs": [],
   "source": [
    "def load_model_checkpoint(architecure, checkpoint_file_path):\n",
    "    checkpoint = torch.load(checkpoint_file_path)\n",
    "    model = None\n",
    "    if (checkpoint['arch'] == architecure):\n",
    "        if (architecure == 'vgg19'):\n",
    "            model = models.vgg19(pretrained=True)\n",
    "        elif (architecure == 'vgg19_bn'):\n",
    "            model = models.vgg19_bn(pretrained=True)\n",
    "        else:\n",
    "            print(\"Model checkpoint not found!\")\n",
    "            return\n",
    "        for param in model.parameters():\n",
    "            param.requires_grad = False\n",
    "            \n",
    "        model.classifier = getClassifier()\n",
    "        model.class_to_idx = checkpoint['class_to_idx']\n",
    "        model.load_state_dict(checkpoint['state_dict'])\n",
    "\n",
    "    return model"
   ]
  },
  {
   "cell_type": "code",
   "execution_count": 10,
   "metadata": {},
   "outputs": [],
   "source": [
    "def train_model(model, dataloaders, criterion, optimizer, scheduler, num_epochs=10):\n",
    "    since = time.time()\n",
    "\n",
    "    val_acc_history = []\n",
    "\n",
    "    best_model_wts = copy.deepcopy(model.state_dict())\n",
    "    best_acc = 0.0\n",
    "    \n",
    "    for epoch in range(num_epochs):\n",
    "        print('Epoch {}/{}'.format(epoch, num_epochs - 1))\n",
    "        print('-' * 10)\n",
    "\n",
    "        # Each epoch has a training and validation phase\n",
    "        for phase in ['train', 'valid']:\n",
    "            if phase == 'train':\n",
    "                #scheduler.step()\n",
    "                model.train()  # Set model to training mode\n",
    "            else:\n",
    "                model.eval()   # Set model to evaluate mode\n",
    "\n",
    "            running_loss = 0.0\n",
    "            running_corrects = 0\n",
    "\n",
    "            # Iterate over data.\n",
    "            for inputs, labels in dataloaders[phase]:\n",
    "                inputs = inputs.to(device)\n",
    "                labels = labels.to(device)\n",
    "\n",
    "                # zero the parameter gradients\n",
    "                optimizer.zero_grad()\n",
    "\n",
    "                # forward\n",
    "                # track history if only in train\n",
    "                with torch.set_grad_enabled(phase == 'train'):\n",
    "                    outputs = model(inputs)\n",
    "                    loss = criterion(outputs, labels)\n",
    "                    _, preds = torch.max(outputs, 1)\n",
    "\n",
    "                    # backward + optimize only if in training phase\n",
    "                    if phase == 'train':\n",
    "                        loss.backward()\n",
    "                        optimizer.step()\n",
    "\n",
    "                # statistics\n",
    "                running_loss += loss.item() * inputs.size(0)\n",
    "                running_corrects += torch.sum(preds == labels.data)\n",
    "\n",
    "            epoch_loss = running_loss / len(dataloaders[phase].dataset)\n",
    "            epoch_acc = running_corrects.double() / len(dataloaders[phase].dataset)\n",
    "            if (phase == 'train'):\n",
    "                train_losses.append(epoch_loss)\n",
    "            else:\n",
    "                test_losses.append(epoch_loss)\n",
    "\n",
    "            print('{} Loss: {:.4f} Acc: {:.4f}'.format(phase, epoch_loss, epoch_acc))\n",
    "\n",
    "            # deep copy the model\n",
    "            if phase == 'valid' and epoch_acc > best_acc:\n",
    "                best_acc = epoch_acc\n",
    "                print(\"best_acc = \" + str(best_acc))\n",
    "                best_model_wts = copy.deepcopy(model.state_dict())\n",
    "                \n",
    "            if phase == 'valid':\n",
    "                val_acc_history.append(epoch_acc)\n",
    "\n",
    "    time_elapsed = time.time() - since\n",
    "    print('Training complete in {:.0f}m {:.0f}s'.format(time_elapsed // 60, time_elapsed % 60))\n",
    "    print('Best val Acc: {:4f}'.format(best_acc))\n",
    "\n",
    "    # load best model weights\n",
    "    model.load_state_dict(best_model_wts)\n",
    "    checkpoint = save_model_checkpoint(best_model_wts, image_datasets['train'].class_to_idx, \n",
    "                          'vgg19', 'classifier.pth', True)\n",
    "    return model, val_acc_history, checkpoint"
   ]
  },
  {
   "cell_type": "code",
   "execution_count": 11,
   "metadata": {
    "scrolled": true
   },
   "outputs": [
    {
     "name": "stdout",
     "output_type": "stream",
     "text": [
      "Epoch 0/49\n",
      "----------\n",
      "train Loss: 4.7662 Acc: 0.0005\n",
      "valid Loss: 4.5173 Acc: 0.1149\n",
      "best_acc = tensor(0.1149, dtype=torch.float64, device='cuda:0')\n",
      "Epoch 1/49\n",
      "----------\n",
      "train Loss: 4.5456 Acc: 0.0530\n",
      "valid Loss: 4.3915 Acc: 0.0929\n",
      "Epoch 2/49\n",
      "----------\n",
      "train Loss: 4.4591 Acc: 0.0554\n",
      "valid Loss: 4.2314 Acc: 0.0868\n",
      "Epoch 3/49\n",
      "----------\n",
      "train Loss: 4.3599 Acc: 0.0586\n",
      "valid Loss: 4.0439 Acc: 0.1051\n",
      "Epoch 4/49\n",
      "----------\n",
      "train Loss: 4.2488 Acc: 0.0846\n",
      "valid Loss: 3.8238 Acc: 0.1699\n",
      "best_acc = tensor(0.1699, dtype=torch.float64, device='cuda:0')\n",
      "Epoch 5/49\n",
      "----------\n",
      "train Loss: 4.1098 Acc: 0.1079\n",
      "valid Loss: 3.5695 Acc: 0.2286\n",
      "best_acc = tensor(0.2286, dtype=torch.float64, device='cuda:0')\n",
      "Epoch 6/49\n",
      "----------\n",
      "train Loss: 3.9557 Acc: 0.1389\n",
      "valid Loss: 3.3004 Acc: 0.2885\n",
      "best_acc = tensor(0.2885, dtype=torch.float64, device='cuda:0')\n",
      "Epoch 7/49\n",
      "----------\n",
      "train Loss: 3.7668 Acc: 0.1790\n",
      "valid Loss: 3.0252 Acc: 0.3509\n",
      "best_acc = tensor(0.3509, dtype=torch.float64, device='cuda:0')\n",
      "Epoch 8/49\n",
      "----------\n",
      "train Loss: 3.6052 Acc: 0.2085\n",
      "valid Loss: 2.7732 Acc: 0.4108\n",
      "best_acc = tensor(0.4108, dtype=torch.float64, device='cuda:0')\n",
      "Epoch 9/49\n",
      "----------\n",
      "train Loss: 3.4205 Acc: 0.2463\n",
      "valid Loss: 2.5409 Acc: 0.4572\n",
      "best_acc = tensor(0.4572, dtype=torch.float64, device='cuda:0')\n",
      "Epoch 10/49\n",
      "----------\n",
      "train Loss: 3.2369 Acc: 0.2808\n",
      "valid Loss: 2.3301 Acc: 0.4927\n",
      "best_acc = tensor(0.4927, dtype=torch.float64, device='cuda:0')\n",
      "Epoch 11/49\n",
      "----------\n",
      "train Loss: 3.0779 Acc: 0.3086\n",
      "valid Loss: 2.1448 Acc: 0.5342\n",
      "best_acc = tensor(0.5342, dtype=torch.float64, device='cuda:0')\n",
      "Epoch 12/49\n",
      "----------\n",
      "train Loss: 2.9070 Acc: 0.3417\n",
      "valid Loss: 1.9808 Acc: 0.5562\n",
      "best_acc = tensor(0.5562, dtype=torch.float64, device='cuda:0')\n",
      "Epoch 13/49\n",
      "----------\n",
      "train Loss: 2.7753 Acc: 0.3768\n",
      "valid Loss: 1.8331 Acc: 0.5721\n",
      "best_acc = tensor(0.5721, dtype=torch.float64, device='cuda:0')\n",
      "Epoch 14/49\n",
      "----------\n",
      "train Loss: 2.6612 Acc: 0.3845\n",
      "valid Loss: 1.7094 Acc: 0.5978\n",
      "best_acc = tensor(0.5978, dtype=torch.float64, device='cuda:0')\n",
      "Epoch 15/49\n",
      "----------\n",
      "train Loss: 2.5437 Acc: 0.4124\n",
      "valid Loss: 1.5987 Acc: 0.6296\n",
      "best_acc = tensor(0.6296, dtype=torch.float64, device='cuda:0')\n",
      "Epoch 16/49\n",
      "----------\n",
      "train Loss: 2.4356 Acc: 0.4342\n",
      "valid Loss: 1.4985 Acc: 0.6540\n",
      "best_acc = tensor(0.6540, dtype=torch.float64, device='cuda:0')\n",
      "Epoch 17/49\n",
      "----------\n",
      "train Loss: 2.3497 Acc: 0.4446\n",
      "valid Loss: 1.4163 Acc: 0.6675\n",
      "best_acc = tensor(0.6675, dtype=torch.float64, device='cuda:0')\n",
      "Epoch 18/49\n",
      "----------\n",
      "train Loss: 2.2699 Acc: 0.4660\n",
      "valid Loss: 1.3403 Acc: 0.6993\n",
      "best_acc = tensor(0.6993, dtype=torch.float64, device='cuda:0')\n",
      "Epoch 19/49\n",
      "----------\n",
      "train Loss: 2.1776 Acc: 0.4829\n",
      "valid Loss: 1.2666 Acc: 0.7127\n",
      "best_acc = tensor(0.7127, dtype=torch.float64, device='cuda:0')\n",
      "Epoch 20/49\n",
      "----------\n",
      "train Loss: 2.0889 Acc: 0.5014\n",
      "valid Loss: 1.2004 Acc: 0.7188\n",
      "best_acc = tensor(0.7188, dtype=torch.float64, device='cuda:0')\n",
      "Epoch 21/49\n",
      "----------\n",
      "train Loss: 2.0288 Acc: 0.5188\n",
      "valid Loss: 1.1501 Acc: 0.7286\n",
      "best_acc = tensor(0.7286, dtype=torch.float64, device='cuda:0')\n",
      "Epoch 22/49\n",
      "----------\n",
      "train Loss: 1.9700 Acc: 0.5261\n",
      "valid Loss: 1.0898 Acc: 0.7359\n",
      "best_acc = tensor(0.7359, dtype=torch.float64, device='cuda:0')\n",
      "Epoch 23/49\n",
      "----------\n",
      "train Loss: 1.9322 Acc: 0.5368\n",
      "valid Loss: 1.0468 Acc: 0.7469\n",
      "best_acc = tensor(0.7469, dtype=torch.float64, device='cuda:0')\n",
      "Epoch 24/49\n",
      "----------\n",
      "train Loss: 1.8521 Acc: 0.5473\n",
      "valid Loss: 1.0042 Acc: 0.7506\n",
      "best_acc = tensor(0.7506, dtype=torch.float64, device='cuda:0')\n",
      "Epoch 25/49\n",
      "----------\n",
      "train Loss: 1.8047 Acc: 0.5580\n",
      "valid Loss: 0.9671 Acc: 0.7689\n",
      "best_acc = tensor(0.7689, dtype=torch.float64, device='cuda:0')\n",
      "Epoch 26/49\n",
      "----------\n",
      "train Loss: 1.7323 Acc: 0.5815\n",
      "valid Loss: 0.9276 Acc: 0.7726\n",
      "best_acc = tensor(0.7726, dtype=torch.float64, device='cuda:0')\n",
      "Epoch 27/49\n",
      "----------\n",
      "train Loss: 1.7316 Acc: 0.5812\n",
      "valid Loss: 0.8957 Acc: 0.7836\n",
      "best_acc = tensor(0.7836, dtype=torch.float64, device='cuda:0')\n",
      "Epoch 28/49\n",
      "----------\n",
      "train Loss: 1.6845 Acc: 0.5867\n",
      "valid Loss: 0.8689 Acc: 0.7897\n",
      "best_acc = tensor(0.7897, dtype=torch.float64, device='cuda:0')\n",
      "Epoch 29/49\n",
      "----------\n",
      "train Loss: 1.6487 Acc: 0.5939\n",
      "valid Loss: 0.8361 Acc: 0.8032\n",
      "best_acc = tensor(0.8032, dtype=torch.float64, device='cuda:0')\n",
      "Epoch 30/49\n",
      "----------\n",
      "train Loss: 1.5829 Acc: 0.6087\n",
      "valid Loss: 0.8091 Acc: 0.8105\n",
      "best_acc = tensor(0.8105, dtype=torch.float64, device='cuda:0')\n",
      "Epoch 31/49\n",
      "----------\n",
      "train Loss: 1.5627 Acc: 0.6151\n",
      "valid Loss: 0.7933 Acc: 0.8154\n",
      "best_acc = tensor(0.8154, dtype=torch.float64, device='cuda:0')\n",
      "Epoch 32/49\n",
      "----------\n",
      "train Loss: 1.5425 Acc: 0.6152\n",
      "valid Loss: 0.7633 Acc: 0.8264\n",
      "best_acc = tensor(0.8264, dtype=torch.float64, device='cuda:0')\n",
      "Epoch 33/49\n",
      "----------\n",
      "train Loss: 1.4854 Acc: 0.6253\n",
      "valid Loss: 0.7386 Acc: 0.8301\n",
      "best_acc = tensor(0.8301, dtype=torch.float64, device='cuda:0')\n",
      "Epoch 34/49\n",
      "----------\n",
      "train Loss: 1.4862 Acc: 0.6300\n",
      "valid Loss: 0.7244 Acc: 0.8301\n",
      "Epoch 35/49\n",
      "----------\n",
      "train Loss: 1.4415 Acc: 0.6432\n",
      "valid Loss: 0.7039 Acc: 0.8350\n",
      "best_acc = tensor(0.8350, dtype=torch.float64, device='cuda:0')\n",
      "Epoch 36/49\n",
      "----------\n",
      "train Loss: 1.4431 Acc: 0.6422\n",
      "valid Loss: 0.6840 Acc: 0.8399\n",
      "best_acc = tensor(0.8399, dtype=torch.float64, device='cuda:0')\n",
      "Epoch 37/49\n",
      "----------\n",
      "train Loss: 1.3905 Acc: 0.6529\n",
      "valid Loss: 0.6740 Acc: 0.8435\n",
      "best_acc = tensor(0.8435, dtype=torch.float64, device='cuda:0')\n",
      "Epoch 38/49\n",
      "----------\n",
      "train Loss: 1.3819 Acc: 0.6575\n",
      "valid Loss: 0.6586 Acc: 0.8496\n",
      "best_acc = tensor(0.8496, dtype=torch.float64, device='cuda:0')\n",
      "Epoch 39/49\n",
      "----------\n",
      "train Loss: 1.3684 Acc: 0.6522\n",
      "valid Loss: 0.6409 Acc: 0.8509\n",
      "best_acc = tensor(0.8509, dtype=torch.float64, device='cuda:0')\n",
      "Epoch 40/49\n",
      "----------\n",
      "train Loss: 1.3456 Acc: 0.6604\n",
      "valid Loss: 0.6290 Acc: 0.8509\n",
      "Epoch 41/49\n",
      "----------\n",
      "train Loss: 1.3143 Acc: 0.6705\n",
      "valid Loss: 0.6140 Acc: 0.8594\n",
      "best_acc = tensor(0.8594, dtype=torch.float64, device='cuda:0')\n",
      "Epoch 42/49\n",
      "----------\n",
      "train Loss: 1.2993 Acc: 0.6667\n",
      "valid Loss: 0.6023 Acc: 0.8619\n",
      "best_acc = tensor(0.8619, dtype=torch.float64, device='cuda:0')\n",
      "Epoch 43/49\n",
      "----------\n",
      "train Loss: 1.2827 Acc: 0.6751\n",
      "valid Loss: 0.5896 Acc: 0.8704\n",
      "best_acc = tensor(0.8704, dtype=torch.float64, device='cuda:0')\n",
      "Epoch 44/49\n",
      "----------\n",
      "train Loss: 1.2746 Acc: 0.6767\n",
      "valid Loss: 0.5824 Acc: 0.8631\n",
      "Epoch 45/49\n",
      "----------\n",
      "train Loss: 1.2338 Acc: 0.6880\n",
      "valid Loss: 0.5678 Acc: 0.8704\n",
      "Epoch 46/49\n",
      "----------\n",
      "train Loss: 1.2199 Acc: 0.6865\n",
      "valid Loss: 0.5582 Acc: 0.8692\n",
      "Epoch 47/49\n",
      "----------\n",
      "train Loss: 1.2056 Acc: 0.6944\n",
      "valid Loss: 0.5430 Acc: 0.8729\n",
      "best_acc = tensor(0.8729, dtype=torch.float64, device='cuda:0')\n",
      "Epoch 48/49\n",
      "----------\n",
      "train Loss: 1.1941 Acc: 0.6978\n",
      "valid Loss: 0.5365 Acc: 0.8741\n",
      "best_acc = tensor(0.8741, dtype=torch.float64, device='cuda:0')\n",
      "Epoch 49/49\n",
      "----------\n",
      "train Loss: 1.1674 Acc: 0.7050\n",
      "valid Loss: 0.5294 Acc: 0.8765\n",
      "best_acc = tensor(0.8765, dtype=torch.float64, device='cuda:0')\n",
      "Training complete in 152m 27s\n",
      "Best val Acc: 0.876528\n"
     ]
    }
   ],
   "source": [
    "model_ft, hist, checkpoint = train_model(model, dataloaders_dict, criterion, optimizer, scheduler, num_epochs)"
   ]
  },
  {
   "cell_type": "code",
   "execution_count": 13,
   "metadata": {},
   "outputs": [],
   "source": [
    "%matplotlib inline\n",
    "%config InlineBackend.figure_format = 'retina'\n",
    "\n",
    "import matplotlib.pyplot as plt"
   ]
  },
  {
   "cell_type": "code",
   "execution_count": 14,
   "metadata": {},
   "outputs": [
    {
     "data": {
      "text/plain": [
       "<matplotlib.legend.Legend at 0x7fc5e2a6ec50>"
      ]
     },
     "execution_count": 14,
     "metadata": {},
     "output_type": "execute_result"
    },
    {
     "data": {
      "image/png": "[encoded data removed]",
      "text/plain": [
       "<matplotlib.figure.Figure at 0x7fc5e3b3ecc0>"
      ]
     },
     "metadata": {
      "image/png": {
       "height": 250,
       "width": 364
      },
      "needs_background": "light"
     },
     "output_type": "display_data"
    }
   ],
   "source": [
    "plt.plot(train_losses, label='Training loss')\n",
    "plt.plot(test_losses, label='Validation loss')\n",
    "plt.legend(frameon=False)"
   ]
  },
  {
   "cell_type": "markdown",
   "metadata": {},
   "source": [
    "## Testing your network\n",
    "\n",
    "It's good practice to test your trained network on test data, images the network has never seen either in training or validation. This will give you a good estimate for the model's performance on completely new images. Run the test images through the network and measure the accuracy, the same way you did validation. You should be able to reach around 70% accuracy on the test set if the model has been trained well."
   ]
  },
  {
   "cell_type": "code",
   "execution_count": 15,
   "metadata": {},
   "outputs": [
    {
     "name": "stdout",
     "output_type": "stream",
     "text": [
      "tensor(0.7812, device='cuda:0')\n",
      "tensor(0.7812, device='cuda:0')\n",
      "tensor(0.8750, device='cuda:0')\n",
      "tensor(0.8906, device='cuda:0')\n",
      "tensor(0.9766, device='cuda:0')\n",
      "tensor(0.8281, device='cuda:0')\n",
      "tensor(0.8039, device='cuda:0')\n"
     ]
    }
   ],
   "source": [
    "# TODO: Do validation on the test set\n",
    "model_ft.eval()   # Set model to evaluate mode\n",
    "\n",
    "torch.set_grad_enabled(False)\n",
    "# Iterate over data.\n",
    "for inputs, labels in testloader:\n",
    "    inputs = inputs.to(device)\n",
    "    labels = labels.to(device)\n",
    "\n",
    "    outputs = model_ft.forward(inputs)\n",
    "\n",
    "    _, preds = torch.max(outputs, 1)\n",
    "    equals = preds == labels.data\n",
    "    \n",
    "    print(equals.float().mean())\n"
   ]
  },
  {
   "cell_type": "markdown",
   "metadata": {},
   "source": [
    "## Save the checkpoint\n",
    "\n",
    "Now that your network is trained, save the model so you can load it later for making predictions. You probably want to save other things such as the mapping of classes to indices which you get from one of the image datasets: `image_datasets['train'].class_to_idx`. You can attach this to the model as an attribute which makes inference easier later on.\n",
    "\n",
    "```model.class_to_idx = image_datasets['train'].class_to_idx```\n",
    "\n",
    "Remember that you'll want to completely rebuild the model later so you can use it for inference. Make sure to include any information you need in the checkpoint. If you want to load the model and keep training, you'll want to save the number of epochs as well as the optimizer state, `optimizer.state_dict`. You'll likely want to use this trained model in the next part of the project, so best to save it now."
   ]
  },
  {
   "cell_type": "code",
   "execution_count": 15,
   "metadata": {},
   "outputs": [],
   "source": [
    "# TODO: Save the checkpoint "
   ]
  },
  {
   "cell_type": "markdown",
   "metadata": {},
   "source": [
    "## Loading the checkpoint\n",
    "\n",
    "At this point it's good to write a function that can load a checkpoint and rebuild the model. That way you can come back to this project and keep working on it without having to retrain the network."
   ]
  },
  {
   "cell_type": "code",
   "execution_count": 16,
   "metadata": {},
   "outputs": [],
   "source": [
    "# TODO: Write a function that loads a checkpoint and rebuilds the model"
   ]
  },
  {
   "cell_type": "markdown",
   "metadata": {},
   "source": [
    "# Inference for classification\n",
    "\n",
    "Now you'll write a function to use a trained network for inference. That is, you'll pass an image into the network and predict the class of the flower in the image. Write a function called `predict` that takes an image and a model, then returns the top $K$ most likely classes along with the probabilities. It should look like \n",
    "\n",
    "```python\n",
    "probs, classes = predict(image_path, model)\n",
    "print(probs)\n",
    "print(classes)\n",
    "> [ 0.01558163  0.01541934  0.01452626  0.01443549  0.01407339]\n",
    "> ['70', '3', '45', '62', '55']\n",
    "```\n",
    "\n",
    "First you'll need to handle processing the input image such that it can be used in your network. \n",
    "\n",
    "## Image Preprocessing\n",
    "\n",
    "You'll want to use `PIL` to load the image ([documentation](https://pillow.readthedocs.io/en/latest/reference/Image.html)). It's best to write a function that preprocesses the image so it can be used as input for the model. This function should process the images in the same manner used for training. \n",
    "\n",
    "First, resize the images where the shortest side is 256 pixels, keeping the aspect ratio. This can be done with the [`thumbnail`](http://pillow.readthedocs.io/en/3.1.x/reference/Image.html#PIL.Image.Image.thumbnail) or [`resize`](http://pillow.readthedocs.io/en/3.1.x/reference/Image.html#PIL.Image.Image.thumbnail) methods. Then you'll need to crop out the center 224x224 portion of the image.\n",
    "\n",
    "Color channels of images are typically encoded as integers 0-255, but the model expected floats 0-1. You'll need to convert the values. It's easiest with a Numpy array, which you can get from a PIL image like so `np_image = np.array(pil_image)`.\n",
    "\n",
    "As before, the network expects the images to be normalized in a specific way. For the means, it's `[0.485, 0.456, 0.406]` and for the standard deviations `[0.229, 0.224, 0.225]`. You'll want to subtract the means from each color channel, then divide by the standard deviation. \n",
    "\n",
    "And finally, PyTorch expects the color channel to be the first dimension but it's the third dimension in the PIL image and Numpy array. You can reorder dimensions using [`ndarray.transpose`](https://docs.scipy.org/doc/numpy-1.13.0/reference/generated/numpy.ndarray.transpose.html). The color channel needs to be first and retain the order of the other two dimensions."
   ]
  },
  {
   "cell_type": "code",
   "execution_count": 16,
   "metadata": {},
   "outputs": [],
   "source": [
    "def process_image(image):\n",
    "    ''' Scales, crops, and normalizes a PIL image for a PyTorch model,\n",
    "        returns an Numpy array\n",
    "    '''\n",
    "    from PIL import Image\n",
    "    img = Image.open(image)\n",
    "    \n",
    "    if img.size[0] > img.size[1]:\n",
    "        img.thumbnail((99999, 255))\n",
    "    else:\n",
    "        img.thumbnail((255, 99999))\n",
    "           \n",
    "    left_margin = (img.width-224)/2\n",
    "    bottom_margin = (img.height-224)/2\n",
    "    right_margin = left_margin + 224\n",
    "    top_margin = bottom_margin + 224\n",
    "    img = img.crop((left_margin, bottom_margin, right_margin,   \n",
    "                      top_margin))\n",
    "    \n",
    "    img = np.array(img)/255\n",
    "    mean = np.array([0.485, 0.456, 0.406]) \n",
    "    std = np.array([0.229, 0.224, 0.225])\n",
    "    img = (img - mean)/std\n",
    "    \n",
    "    img = img.transpose((2, 0, 1))\n",
    "    return img\n",
    "    # TODO: Process a PIL image for use in a PyTorch model"
   ]
  },
  {
   "cell_type": "markdown",
   "metadata": {},
   "source": [
    "To check your work, the function below converts a PyTorch tensor and displays it in the notebook. If your `process_image` function works, running the output through this function should return the original image (except for the cropped out portions)."
   ]
  },
  {
   "cell_type": "code",
   "execution_count": 17,
   "metadata": {},
   "outputs": [],
   "source": [
    "def imshow(image, ax=None, title=None):\n",
    "    \"\"\"Imshow for Tensor.\"\"\"\n",
    "    if ax is None:\n",
    "        fig, ax = plt.subplots()\n",
    "    \n",
    "    # PyTorch tensors assume the color channel is the first dimension\n",
    "    # but matplotlib assumes is the third dimension\n",
    "    image = image.transpose((1, 2, 0))\n",
    "    \n",
    "    # Undo preprocessing\n",
    "    mean = np.array([0.485, 0.456, 0.406])\n",
    "    std = np.array([0.229, 0.224, 0.225])\n",
    "    image = std * image + mean\n",
    "    \n",
    "    # Image needs to be clipped between 0 and 1 or it looks like noise when displayed\n",
    "    image = np.clip(image, 0, 1)\n",
    "    \n",
    "    ax.imshow(image)\n",
    "    \n",
    "    return ax"
   ]
  },
  {
   "cell_type": "markdown",
   "metadata": {},
   "source": [
    "## Class Prediction\n",
    "\n",
    "Once you can get images in the correct format, it's time to write a function for making predictions with your model. A common practice is to predict the top 5 or so (usually called top-$K$) most probable classes. You'll want to calculate the class probabilities then find the $K$ largest values.\n",
    "\n",
    "To get the top $K$ largest values in a tensor use [`x.topk(k)`](http://pytorch.org/docs/master/torch.html#torch.topk). This method returns both the highest `k` probabilities and the indices of those probabilities corresponding to the classes. You need to convert from these indices to the actual class labels using `class_to_idx` which hopefully you added to the model or from an `ImageFolder` you used to load the data ([see here](#Save-the-checkpoint)). Make sure to invert the dictionary so you get a mapping from index to class as well.\n",
    "\n",
    "Again, this method should take a path to an image and a model checkpoint, then return the probabilities and classes.\n",
    "\n",
    "```python\n",
    "probs, classes = predict(image_path, model)\n",
    "print(probs)\n",
    "print(classes)\n",
    "> [ 0.01558163  0.01541934  0.01452626  0.01443549  0.01407339]\n",
    "> ['70', '3', '45', '62', '55']\n",
    "```"
   ]
  },
  {
   "cell_type": "code",
   "execution_count": 18,
   "metadata": {},
   "outputs": [],
   "source": [
    "# https://discuss.pytorch.org/t/converting-numpy-array-to-tensor-on-gpu/19423\n",
    "# inspired by \n",
    "# https://medium.com/@josh_2774/deep-learning-with-pytorch-9574e74d17ad\n",
    "\n",
    "def predict(image_path, model, topk=5):\n",
    "    ''' Predict the class (or classes) of an image using a trained deep learning model.\n",
    "    '''\n",
    "    # TODO: Implement the code to predict the class from an image file\n",
    "    image = process_image(image_path)\n",
    "    image_tensor = torch.from_numpy(image).float().to(device)\n",
    "    model_input = image_tensor.unsqueeze(0)\n",
    "    \n",
    "    probs = torch.exp(model.forward(model_input))\n",
    "    top_probs, top_labs = probs.topk(topk)\n",
    "    top_probs = top_probs.cpu().detach().numpy().tolist()[0] \n",
    "    top_labs = top_labs.cpu().detach().numpy().tolist()[0]\n",
    "\n",
    "    # Convert indices to classes\n",
    "    idx_to_class = {val: key for key, val in image_datasets['train'].class_to_idx.items() }\n",
    "    top_labels = [idx_to_class[lab] for lab in top_labs]\n",
    "    \n",
    "    return top_probs, top_labels"
   ]
  },
  {
   "cell_type": "markdown",
   "metadata": {},
   "source": [
    "## Sanity Checking\n",
    "\n",
    "Now that you can use a trained model for predictions, check to make sure it makes sense. Even if the testing accuracy is high, it's always good to check that there aren't obvious bugs. Use `matplotlib` to plot the probabilities for the top 5 classes as a bar graph, along with the input image. It should look like this:\n",
    "\n",
    "<img src='assets/inference_example.png' width=300px>\n",
    "\n",
    "You can convert from the class integer encoding to actual flower names with the `cat_to_name.json` file (should have been loaded earlier in the notebook). To show a PyTorch tensor as an image, use the `imshow` function defined above."
   ]
  },
  {
   "cell_type": "code",
   "execution_count": 19,
   "metadata": {},
   "outputs": [
    {
     "data": {
      "text/plain": [
       "VGG(\n",
       "  (features): Sequential(\n",
       "    (0): Conv2d(3, 64, kernel_size=(3, 3), stride=(1, 1), padding=(1, 1))\n",
       "    (1): ReLU(inplace)\n",
       "    (2): Conv2d(64, 64, kernel_size=(3, 3), stride=(1, 1), padding=(1, 1))\n",
       "    (3): ReLU(inplace)\n",
       "    (4): MaxPool2d(kernel_size=2, stride=2, padding=0, dilation=1, ceil_mode=False)\n",
       "    (5): Conv2d(64, 128, kernel_size=(3, 3), stride=(1, 1), padding=(1, 1))\n",
       "    (6): ReLU(inplace)\n",
       "    (7): Conv2d(128, 128, kernel_size=(3, 3), stride=(1, 1), padding=(1, 1))\n",
       "    (8): ReLU(inplace)\n",
       "    (9): MaxPool2d(kernel_size=2, stride=2, padding=0, dilation=1, ceil_mode=False)\n",
       "    (10): Conv2d(128, 256, kernel_size=(3, 3), stride=(1, 1), padding=(1, 1))\n",
       "    (11): ReLU(inplace)\n",
       "    (12): Conv2d(256, 256, kernel_size=(3, 3), stride=(1, 1), padding=(1, 1))\n",
       "    (13): ReLU(inplace)\n",
       "    (14): Conv2d(256, 256, kernel_size=(3, 3), stride=(1, 1), padding=(1, 1))\n",
       "    (15): ReLU(inplace)\n",
       "    (16): Conv2d(256, 256, kernel_size=(3, 3), stride=(1, 1), padding=(1, 1))\n",
       "    (17): ReLU(inplace)\n",
       "    (18): MaxPool2d(kernel_size=2, stride=2, padding=0, dilation=1, ceil_mode=False)\n",
       "    (19): Conv2d(256, 512, kernel_size=(3, 3), stride=(1, 1), padding=(1, 1))\n",
       "    (20): ReLU(inplace)\n",
       "    (21): Conv2d(512, 512, kernel_size=(3, 3), stride=(1, 1), padding=(1, 1))\n",
       "    (22): ReLU(inplace)\n",
       "    (23): Conv2d(512, 512, kernel_size=(3, 3), stride=(1, 1), padding=(1, 1))\n",
       "    (24): ReLU(inplace)\n",
       "    (25): Conv2d(512, 512, kernel_size=(3, 3), stride=(1, 1), padding=(1, 1))\n",
       "    (26): ReLU(inplace)\n",
       "    (27): MaxPool2d(kernel_size=2, stride=2, padding=0, dilation=1, ceil_mode=False)\n",
       "    (28): Conv2d(512, 512, kernel_size=(3, 3), stride=(1, 1), padding=(1, 1))\n",
       "    (29): ReLU(inplace)\n",
       "    (30): Conv2d(512, 512, kernel_size=(3, 3), stride=(1, 1), padding=(1, 1))\n",
       "    (31): ReLU(inplace)\n",
       "    (32): Conv2d(512, 512, kernel_size=(3, 3), stride=(1, 1), padding=(1, 1))\n",
       "    (33): ReLU(inplace)\n",
       "    (34): Conv2d(512, 512, kernel_size=(3, 3), stride=(1, 1), padding=(1, 1))\n",
       "    (35): ReLU(inplace)\n",
       "    (36): MaxPool2d(kernel_size=2, stride=2, padding=0, dilation=1, ceil_mode=False)\n",
       "  )\n",
       "  (classifier): Sequential(\n",
       "    (0): Linear(in_features=25088, out_features=4096, bias=True)\n",
       "    (1): ReLU(inplace)\n",
       "    (2): Dropout(p=0.5)\n",
       "    (3): Linear(in_features=4096, out_features=4096, bias=True)\n",
       "    (4): ReLU(inplace)\n",
       "    (5): Dropout(p=0.5)\n",
       "    (6): Linear(in_features=4096, out_features=102, bias=True)\n",
       "    (7): LogSoftmax()\n",
       "  )\n",
       ")"
      ]
     },
     "execution_count": 19,
     "metadata": {},
     "output_type": "execute_result"
    }
   ],
   "source": [
    "device = torch.device(\"cuda\" if torch.cuda.is_available() else \"cpu\")\n",
    "model = load_model_checkpoint('vgg19', 'classifier.pth')\n",
    "model.to(device)"
   ]
  },
  {
   "cell_type": "code",
   "execution_count": 20,
   "metadata": {},
   "outputs": [
    {
     "name": "stdout",
     "output_type": "stream",
     "text": [
      "[0.9953017830848694, 0.0014221975579857826, 0.0006309633608907461, 0.00025969507987610996, 0.00017738806491252035]\n",
      "['2', '62', '52', '18', '78']\n"
     ]
    }
   ],
   "source": [
    "# TODO: Display an image along with the top 5 classes\n",
    "image_path = \"flowers/test/2/image_05100.jpg\"\n",
    "probs, classes = predict(image_path, model)\n",
    "print(probs)\n",
    "print(classes)"
   ]
  },
  {
   "cell_type": "code",
   "execution_count": 21,
   "metadata": {},
   "outputs": [
    {
     "data": {
      "image/png": "[encoded data removed]",
      "text/plain": [
       "<matplotlib.figure.Figure at 0x7fc5df226080>"
      ]
     },
     "metadata": {
      "image/png": {
       "height": 577,
       "width": 489
      },
      "needs_background": "light"
     },
     "output_type": "display_data"
    }
   ],
   "source": [
    "plt.figure(figsize = (6,10))\n",
    "ax = plt.subplot(2,1,1)\n",
    "flower_class = probs.index(max(probs))\n",
    "title = cat_to_name[classes[flower_class]]\n",
    "img = process_image(image_path)\n",
    "imshow(img, ax, title = title)\n",
    "\n",
    "flowers_by_name = [cat_to_name[x] for x in classes]\n",
    "plt.subplot(2,1,2)\n",
    "sns.barplot(x=probs, y=flowers_by_name, color=sns.color_palette()[0]);\n",
    "plt.show()"
   ]
  },
  {
   "cell_type": "code",
   "execution_count": 7,
   "metadata": {},
   "outputs": [
    {
     "name": "stdout",
     "output_type": "stream",
     "text": [
      "total 547532\r\n",
      "drwxr-xr-x 5 root root      4096 May 23 10:00 \u001b[0m\u001b[01;34m.\u001b[0m/\r\n",
      "drwxr-xr-x 4 root root      4096 Apr  1 20:37 \u001b[01;34m..\u001b[0m/\r\n",
      "drwxr-xr-x 2 root root      4096 May 12 16:20 \u001b[01;34massets\u001b[0m/\r\n",
      "-rw-r--r-- 1 root root      2218 Mar  5  2018 cat_to_name.json\r\n",
      "-rw-r--r-- 1 root root 559960808 May 23 08:59 classifier.pth\r\n",
      "lrwxrwxrwx 1 root root        21 Oct 13  2018 \u001b[01;36mflowers\u001b[0m -> \u001b[01;34m../../../data/flowers\u001b[0m/\r\n",
      "drwxr-xr-x 8 root root      4096 Apr  1 20:57 \u001b[01;34m.git\u001b[0m/\r\n",
      "-rw-r--r-- 1 root root      1157 Feb  6  2018 .gitignore\r\n",
      "-rw-r--r-- 1 root root     90204 May 23 10:00 Image Classifier Project.ipynb\r\n",
      "-rw-r--r-- 1 root root     15677 Aug  5  2018 Image Classifier Project-zh.ipynb\r\n",
      "drwxr-xr-x 2 root root      4096 Apr  1 20:37 \u001b[01;34m.ipynb_checkpoints\u001b[0m/\r\n",
      "-rw-r--r-- 1 root root      1064 Feb  6  2018 LICENSE\r\n",
      "-rw-r--r-- 1 root root         0 Feb  6  2018 predict.py\r\n",
      "-rw-r--r-- 1 root root       250 Apr 20  2018 README.md\r\n",
      "-rw-r--r-- 1 root root         0 Feb  6  2018 train.py\r\n",
      "-rw-r--r-- 1 root root      1540 Sep 28  2018 workspace-utils.py\r\n"
     ]
    }
   ],
   "source": [
    "%ls -la"
   ]
  },
  {
   "cell_type": "code",
   "execution_count": null,
   "metadata": {},
   "outputs": [],
   "source": []
  }
 ],
 "metadata": {
  "kernelspec": {
   "display_name": "Python 3",
   "language": "python",
   "name": "python3"
  },
  "language_info": {
   "codemirror_mode": {
    "name": "ipython",
    "version": 3
   },
   "file_extension": ".py",
   "mimetype": "text/x-python",
   "name": "python",
   "nbconvert_exporter": "python",
   "pygments_lexer": "ipython3",
   "version": "3.6.3"
  }
 },
 "nbformat": 4,
 "nbformat_minor": 2
}
